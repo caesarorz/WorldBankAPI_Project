{
 "cells": [
  {
   "cell_type": "code",
   "execution_count": 1,
   "metadata": {},
   "outputs": [],
   "source": [
    "import requests\n",
    "import pandas as pd\n",
    "import seaborn as sns\n",
    "import matplotlib.pyplot as plt\n",
    "import numpy as np\n",
    "import json\n",
    "import requests\n",
    "from xml.etree import ElementTree\n",
    "import plotly.graph_objects as go\n",
    "import plotly.express as px"
   ]
  },
  {
   "cell_type": "code",
   "execution_count": 5,
   "metadata": {},
   "outputs": [],
   "source": [
    "#SL.EMP.MPYR.MA.ZS\n",
    "male_employeer_ind = 'SL.EMP.MPYR.MA.ZS'\n",
    "male_employeer_url = f'http://api.worldbank.org/v2/country/cr/indicator/{male_employeer_ind}?format=json'\n",
    "male_employeer = requests.get(male_employeer_url)\n",
    "male_employeer = male_employeer.json()[1:]\n",
    "\n",
    "# get indicator name\n",
    "male_employeer_name_ind = male_employeer[0][1]['indicator']['value']\n",
    "\n",
    "# create dictionary and remove Nones\n",
    "male_employeer_dict = {'year': [], f'{male_employeer_name_ind}': []}\n",
    "\n",
    "for i in male_employeer[0]:\n",
    "    #print(i['date'], i['value'])\n",
    "    if i['value']:\n",
    "        male_employeer_dict['year'].append(i['date'])\n",
    "        male_employeer_dict[male_employeer_name_ind].append(i['value'])\n",
    "\n",
    "df_male_employeer = pd.DataFrame.from_dict(data=male_employeer_dict)"
   ]
  },
  {
   "cell_type": "code",
   "execution_count": 6,
   "metadata": {},
   "outputs": [],
   "source": [
    "#SL.EMP.MPYR.FE.ZS\n",
    "female_employeer_ind = 'SL.EMP.MPYR.FE.ZS'\n",
    "female_employeer_url = f'http://api.worldbank.org/v2/country/cr/indicator/{female_employeer_ind}?format=json'\n",
    "female_employeer = requests.get(female_employeer_url)\n",
    "female_employeer = female_employeer.json()[1:]\n",
    "\n",
    "# get indicator name\n",
    "female_employeer_name_ind = female_employeer[0][1]['indicator']['value']\n",
    "\n",
    "# create dictionary and remove Nones\n",
    "female_employeer_dict = {'year': [], f'{female_employeer_name_ind}': []}\n",
    "\n",
    "for i in female_employeer[0]:\n",
    "    #print(i['date'], i['value'])\n",
    "    if i['value']:\n",
    "        female_employeer_dict['year'].append(i['date'])\n",
    "        female_employeer_dict[female_employeer_name_ind].append(i['value'])\n",
    "\n",
    "df_female_employeer = pd.DataFrame.from_dict(data=female_employeer_dict)"
   ]
  },
  {
   "cell_type": "code",
   "execution_count": 7,
   "metadata": {},
   "outputs": [],
   "source": [
    "#SL.EMP.MPYR.ZS\n",
    "total_employeer_ind = 'SL.EMP.MPYR.ZS'\n",
    "total_employeer_url = f'http://api.worldbank.org/v2/country/cr/indicator/{total_employeer_ind}?format=json'\n",
    "total_employeer = requests.get(total_employeer_url)\n",
    "total_employeer = total_employeer.json()[1:]\n",
    "\n",
    "# get indicator name\n",
    "total_employeer_name_ind = total_employeer[0][1]['indicator']['value']\n",
    "\n",
    "total_employeer_dict = {'year': [], f'{total_employeer_name_ind}': []}\n",
    "\n",
    "for i in total_employeer[0]:\n",
    "    if i['value']:\n",
    "        total_employeer_dict['year'].append(i['date'])\n",
    "        total_employeer_dict[total_employeer_name_ind].append(i['value'])\n",
    "\n",
    "df_total_employeer = pd.DataFrame.from_dict(data=total_employeer_dict)"
   ]
  },
  {
   "cell_type": "code",
   "execution_count": 8,
   "metadata": {},
   "outputs": [],
   "source": [
    "merged_employment_by_gender = pd.merge(left=df_female_employeer, right=df_male_employeer, left_on='year', right_on='year')\n",
    "merged_employment_total = pd.merge(left=merged_employment_by_gender, right=df_total_employeer, left_on='year', right_on='year')\n",
    "total = merged_employment_total[f'{total_employeer_name_ind}'].sum()"
   ]
  },
  {
   "cell_type": "code",
   "execution_count": 123,
   "metadata": {},
   "outputs": [],
   "source": [
    "#merged_employment_total"
   ]
  },
  {
   "cell_type": "markdown",
   "metadata": {},
   "source": [
    "El siguiente grafico muestra la tendencia historica de la cantidad de empleadores mujeres y hombres en CR."
   ]
  },
  {
   "cell_type": "code",
   "execution_count": 9,
   "metadata": {},
   "outputs": [
    {
     "data": {
      "text/plain": [
       "<AxesSubplot:xlabel='Factor', ylabel='Value'>"
      ]
     },
     "execution_count": 9,
     "metadata": {},
     "output_type": "execute_result"
    },
    {
     "data": {
      "image/png": "[encoded data removed]",
      "text/plain": [
       "<Figure size 432x288 with 1 Axes>"
      ]
     },
     "metadata": {
      "needs_background": "light"
     },
     "output_type": "display_data"
    }
   ],
   "source": [
    "female = merged_employment_total[f'{female_employeer_name_ind}'].sum()\n",
    "male = merged_employment_total[f'{male_employeer_name_ind}'].sum()\n",
    "df = pd.DataFrame({'Factor': ['Male', 'Female'],'Value': [male, female]})\n",
    "sns.barplot(x='Factor', y='Value', data=df)"
   ]
  },
  {
   "cell_type": "markdown",
   "metadata": {},
   "source": [
    "El siguiente barchar muestra muestra los valores desde 1991 de la cantidad de empleadores en CR por genero. Se observa como la cantidad de emprendimientos se ha estado reduciendo para ambos generos y ademas como el genero masculino desafortunadamente posee una relacion historica de 2 a uno con respecto a las mujeres."
   ]
  },
  {
   "cell_type": "code",
   "execution_count": 11,
   "metadata": {},
   "outputs": [
    {
     "data": {
      "image/png": "[encoded data removed]",
      "text/plain": [
       "<Figure size 1440x720 with 1 Axes>"
      ]
     },
     "metadata": {},
     "output_type": "display_data"
    }
   ],
   "source": [
    "female = merged_employment_total[f'{female_employeer_name_ind}'].tolist()[::-1]\n",
    "male = merged_employment_total[f'{male_employeer_name_ind}'].tolist()[::-1]\n",
    "year = merged_employment_total[f'year'].tolist()[::-1]\n",
    "\n",
    "df = pd.DataFrame({\"Male\": male,\n",
    "                    \"Female\" : female,\n",
    "                    \"Year\": year})\n",
    "\n",
    "s1 = sns.barplot(x = 'Year', y = 'Male', data = df, color = '#4287f5')\n",
    "s2 = sns.barplot(x = 'Year', y = 'Female', data = df, color = '#a89c42')\n",
    "plt.ylabel('Female/Male')\n",
    "plt.xlabel('Year')\n",
    "plt.title('Male and Female Employeer Comparison')\n",
    "sns.set(rc = {'figure.figsize':(20,10)})\n",
    "sns.set_theme(style=\"whitegrid\")"
   ]
  },
  {
   "cell_type": "markdown",
   "metadata": {},
   "source": [
    "Los mismo que el anterior pero con visualizacion mas clara."
   ]
  },
  {
   "cell_type": "code",
   "execution_count": 12,
   "metadata": {},
   "outputs": [
    {
     "data": {
      "image/png": "[encoded data removed]",
      "text/plain": [
       "<Figure size 1440x720 with 1 Axes>"
      ]
     },
     "metadata": {},
     "output_type": "display_data"
    }
   ],
   "source": [
    "df_ = df.melt(id_vars=['Year'],value_vars=['Male', 'Female'], var_name=['Gender'])\n",
    "\n",
    "sns.barplot(x =\"Year\", y = 'value', data = df_, hue = \"Gender\")\n",
    "plt.ylabel('Female/Male')\n",
    "plt.xlabel('Year')\n",
    "plt.title('Male and Female Employeer Comparison')\n",
    "sns.set(rc = {'figure.figsize':(20,10)})\n",
    "sns.set_theme(style=\"whitegrid\")"
   ]
  },
  {
   "cell_type": "markdown",
   "metadata": {},
   "source": [
    "Se visualizan todas las muestras, donde las tendecias son claras."
   ]
  },
  {
   "cell_type": "code",
   "execution_count": 125,
   "metadata": {},
   "outputs": [
    {
     "data": {
      "image/png": "[encoded data removed]",
      "text/plain": [
       "<Figure size 720x720 with 1 Axes>"
      ]
     },
     "metadata": {},
     "output_type": "display_data"
    }
   ],
   "source": [
    "ax = sns.boxplot(x=\"Gender\", y=\"value\", data=df_)\n",
    "sns.set(rc = {'figure.figsize':(10,10)})\n",
    "plt.ylabel('Sample Values distribution')\n",
    "plt.title('Male and Female Employeer Comparison')\n",
    "ax = sns.swarmplot(x=\"Gender\", y=\"value\", data=df_, color=\".25\")\n",
    "sns.set_theme(style=\"whitegrid\")"
   ]
  },
  {
   "cell_type": "markdown",
   "metadata": {},
   "source": [
    "# Merchandise Exports and Imports"
   ]
  },
  {
   "cell_type": "markdown",
   "metadata": {},
   "source": [
    "Costa Rican Exports to high income countries"
   ]
  },
  {
   "cell_type": "code",
   "execution_count": 61,
   "metadata": {},
   "outputs": [],
   "source": [
    "#TX.VAL.MRCH.HI.ZS\n",
    "exports_high_income_ind = 'TX.VAL.MRCH.HI.ZS'\n",
    "exports_high_income_url = f'http://api.worldbank.org/v2/country/cr/indicator/{exports_high_income_ind}?format=json'\n",
    "exports_high_income = requests.get(exports_high_income_url)\n",
    "exports_high_income = exports_high_income.json()[1:]\n",
    "\n",
    "# get indicator name\n",
    "exports_high_income_name_ind = exports_high_income[0][1]['indicator']['value']\n",
    "\n",
    "# create dictionary and remove Nones\n",
    "exports_high_income_dict = {'year': [], f'{exports_high_income_name_ind}': []}\n",
    "\n",
    "for i in exports_high_income[0]:\n",
    "    #print(i['date'], i['value'])\n",
    "    if i['value']:\n",
    "        exports_high_income_dict['year'].append(i['date'])\n",
    "        exports_high_income_dict[exports_high_income_name_ind].append(i['value'])\n",
    "\n",
    "df_exports_high_income = pd.DataFrame.from_dict(data=exports_high_income_dict)"
   ]
  },
  {
   "cell_type": "markdown",
   "metadata": {},
   "source": [
    "Costa Rican Imports to high income countries"
   ]
  },
  {
   "cell_type": "code",
   "execution_count": 60,
   "metadata": {},
   "outputs": [],
   "source": [
    "# TM.VAL.MRCH.HI.ZS\n",
    "imports_high_income_ind = 'TM.VAL.MRCH.HI.ZS'\n",
    "imports_high_income_url = f'http://api.worldbank.org/v2/country/cr/indicator/{imports_high_income_ind}?format=json'\n",
    "imports_high_income = requests.get(imports_high_income_url)\n",
    "imports_high_income = imports_high_income.json()[1:]\n",
    "\n",
    "# get indicator name\n",
    "imports_high_income_name_ind = imports_high_income[0][1]['indicator']['value']\n",
    "\n",
    "# create dictionary and remove Nones\n",
    "imports_high_income_dict = {'year': [], f'{imports_high_income_name_ind}': []}\n",
    "\n",
    "for i in imports_high_income[0]:\n",
    "    #print(i['date'], i['value'])\n",
    "    if i['value']:\n",
    "        imports_high_income_dict['year'].append(i['date'])\n",
    "        imports_high_income_dict[imports_high_income_name_ind].append(i['value'])\n",
    "\n",
    "df_imports_high_income = pd.DataFrame.from_dict(data=imports_high_income_dict)"
   ]
  },
  {
   "cell_type": "code",
   "execution_count": 74,
   "metadata": {},
   "outputs": [],
   "source": [
    "exports_imports_highincome = pd.merge(left=df_imports_high_income, right=df_exports_high_income, left_on='year', right_on='year')\n",
    "imports_high = exports_imports_highincome[f'{imports_high_income_name_ind}'].tolist()[::-1]\n",
    "exports_high = exports_imports_highincome[f'{exports_high_income_name_ind}'].tolist()[::-1]\n",
    "year = exports_imports_highincome[f'year'].tolist()[::-1]\n",
    "\n",
    "df = pd.DataFrame({\"Imports\": imports_high, \"Exports\": exports_high, \"Year\": year})\n",
    "\n",
    "df_dn = df.melt(id_vars=['Year'],value_vars=['Imports', 'Exports'], var_name=['Exports/Imports'])\n",
    "df_dn['Income'] = pd.Series([\"High_Income\" for x in range(len(df_imports_high_income.index)*2)])\n",
    "df_dn['Zone'] = pd.Series([\"Develop Nations\" for x in range(len(df_imports_high_income.index)*2)])\n",
    "#df_dn.to_excel(\"output.xlsx\")"
   ]
  },
  {
   "cell_type": "markdown",
   "metadata": {},
   "source": [
    "Merchandise exports to low- and middle-income economies in East Asia & Pacific (% of total merchandise exports)"
   ]
  },
  {
   "cell_type": "code",
   "execution_count": 58,
   "metadata": {},
   "outputs": [],
   "source": [
    "# TX.VAL.MRCH.R1.ZS\n",
    "exports_east_asia_pacific_ind = 'TX.VAL.MRCH.R1.ZS'\n",
    "exports_east_asia_pacific_url = f'http://api.worldbank.org/v2/country/cr/indicator/{exports_east_asia_pacific_ind}?format=json'\n",
    "exports_east_asia_pacific = requests.get(exports_east_asia_pacific_url)\n",
    "exports_east_asia_pacific = exports_east_asia_pacific.json()[1:]\n",
    "\n",
    "# get indicator name\n",
    "exports_east_asia_pacific_name_ind = exports_east_asia_pacific[0][1]['indicator']['value']\n",
    "\n",
    "# create dictionary and remove Nones\n",
    "exports_east_asia_pacific_dict = {'year': [], f'{exports_east_asia_pacific_name_ind}': []}\n",
    "\n",
    "for i in exports_east_asia_pacific[0]:\n",
    "    #print(i['date'], i['value'])\n",
    "    if i['value']:\n",
    "        exports_east_asia_pacific_dict['year'].append(i['date'])\n",
    "        exports_east_asia_pacific_dict[exports_east_asia_pacific_name_ind].append(i['value'])\n",
    "\n",
    "df_exports_east_asia_pacific = pd.DataFrame.from_dict(data=exports_east_asia_pacific_dict)"
   ]
  },
  {
   "cell_type": "markdown",
   "metadata": {},
   "source": [
    "Merchandise imports from low- and middle-income economies in East Asia & Pacific (% of total merchandise imports)\n"
   ]
  },
  {
   "cell_type": "code",
   "execution_count": 57,
   "metadata": {},
   "outputs": [],
   "source": [
    "# TM.VAL.MRCH.R1.ZS\n",
    "imports_east_asia_pacific_ind = 'TM.VAL.MRCH.R1.ZS'\n",
    "imports_east_asia_pacific_url = f'http://api.worldbank.org/v2/country/cr/indicator/{imports_east_asia_pacific_ind}?format=json'\n",
    "imports_east_asia_pacific = requests.get(imports_east_asia_pacific_url)\n",
    "imports_east_asia_pacific = imports_east_asia_pacific.json()[1:]\n",
    "\n",
    "# get indicator name\n",
    "imports_east_asia_pacific_name_ind = imports_east_asia_pacific[0][1]['indicator']['value']\n",
    "\n",
    "# create dictionary and remove Nones\n",
    "imports_east_asia_pacific_dict = {'year': [], f'{imports_east_asia_pacific_name_ind}': []}\n",
    "\n",
    "for i in imports_east_asia_pacific[0]:\n",
    "    #print(i['date'], i['value'])\n",
    "    if i['value']:\n",
    "        imports_east_asia_pacific_dict['year'].append(i['date'])\n",
    "        imports_east_asia_pacific_dict[imports_east_asia_pacific_name_ind].append(i['value'])\n",
    "\n",
    "df_imports_east_asia_pacific = pd.DataFrame.from_dict(data=imports_east_asia_pacific_dict)"
   ]
  },
  {
   "cell_type": "code",
   "execution_count": 56,
   "metadata": {},
   "outputs": [],
   "source": [
    "exp_imp_asia_pacific_low_middle = pd.merge(left=df_imports_east_asia_pacific, right=df_exports_east_asia_pacific, left_on='year', right_on='year')\n",
    "imports_low_middle = exp_imp_asia_pacific_low_middle[f'{imports_east_asia_pacific_name_ind}'].tolist()[::-1]\n",
    "exports_low_middle = exp_imp_asia_pacific_low_middle[f'{exports_east_asia_pacific_name_ind}'].tolist()[::-1]\n",
    "year = exp_imp_asia_pacific_low_middle[f'year'].tolist()[::-1]\n",
    "\n",
    "df = pd.DataFrame({\"Imports\": imports_low_middle, \"Exports\": exports_low_middle, \"Year\": year})\n",
    "\n",
    "df_apa = df.melt(id_vars=['Year'],value_vars=['Imports', 'Exports'], var_name=['Exports/Imports'])\n",
    "df_apa['Income'] = pd.Series([\"Low_Middle_Income\" for x in range(len(df_imports_east_asia_pacific.index)*2)])\n",
    "df_apa['Zone'] = pd.Series([\"Asia_Pacific\" for x in range(len(df_imports_east_asia_pacific.index)*2)])"
   ]
  },
  {
   "cell_type": "markdown",
   "metadata": {},
   "source": [
    "Merchandise exports to low- and middle-income economies in Europe & Central Asia (% of total merchandise exports)\tTX.VAL.MRCH.R2.ZS"
   ]
  },
  {
   "cell_type": "code",
   "execution_count": 55,
   "metadata": {},
   "outputs": [],
   "source": [
    "# TX.VAL.MRCH.R2.ZS\n",
    "exports_eu_centralasia_ind = 'TX.VAL.MRCH.R2.ZS'\n",
    "exports_eu_centralasia_url = f'http://api.worldbank.org/v2/country/cr/indicator/{exports_eu_centralasia_ind}?format=json'\n",
    "exports_eu_centralasia = requests.get(exports_eu_centralasia_url)\n",
    "exports_eu_centralasia = exports_eu_centralasia.json()[1:]\n",
    "\n",
    "# get indicator name\n",
    "exports_eu_centralasia_name_ind = exports_eu_centralasia[0][1]['indicator']['value']\n",
    "\n",
    "# create dictionary and remove Nones\n",
    "exports_eu_centralasia_dict = {'year': [], f'{exports_eu_centralasia_name_ind}': []}\n",
    "\n",
    "for i in exports_eu_centralasia[0]:\n",
    "    #print(i['date'], i['value'])\n",
    "    if i['value']:\n",
    "        exports_eu_centralasia_dict['year'].append(i['date'])\n",
    "        exports_eu_centralasia_dict[exports_eu_centralasia_name_ind].append(i['value'])\n",
    "\n",
    "df_exports_eu_centralasia = pd.DataFrame.from_dict(data=exports_eu_centralasia_dict)"
   ]
  },
  {
   "cell_type": "markdown",
   "metadata": {},
   "source": [
    "Merchandise imports from low- and middle-income economies in East Asia & Pacific (% of total merchandise imports)\tTM.VAL.MRCH.R2.ZS"
   ]
  },
  {
   "cell_type": "code",
   "execution_count": 79,
   "metadata": {},
   "outputs": [],
   "source": [
    "# TM.VAL.MRCH.R2.ZS\n",
    "imports_eu_centralasia_ind  = 'TM.VAL.MRCH.R2.ZS'\n",
    "imports_eu_centralasia_url = f'http://api.worldbank.org/v2/country/cr/indicator/{imports_eu_centralasia_ind}?format=json'\n",
    "imports_eu_centralasia = requests.get(imports_eu_centralasia_url)\n",
    "imports_eu_centralasia = imports_eu_centralasia.json()[1:]\n",
    "\n",
    "# get indicator name\n",
    "imports_eu_centralasia_name_ind = imports_eu_centralasia[0][1]['indicator']['value']\n",
    "\n",
    "# create dictionary and remove Nones\n",
    "imports_eu_centralasia_dict = {'year': [], f'{imports_eu_centralasia_name_ind}': []}\n",
    "\n",
    "for i in imports_eu_centralasia[0]:\n",
    "    #print(i['date'], i['value'])\n",
    "    if i['value']:\n",
    "        imports_eu_centralasia_dict['year'].append(i['date'])\n",
    "        imports_eu_centralasia_dict[imports_eu_centralasia_name_ind].append(i['value'])\n",
    "\n",
    "df_imports_eu_centralasia = pd.DataFrame.from_dict(data=imports_eu_centralasia_dict)"
   ]
  },
  {
   "cell_type": "code",
   "execution_count": 80,
   "metadata": {},
   "outputs": [],
   "source": [
    "exp_imp_eu_centralasia_low_middle = pd.merge(left=df_imports_eu_centralasia, right=df_exports_eu_centralasia, left_on='year', right_on='year')\n",
    "imports_low_middle = exp_imp_eu_centralasia_low_middle[f'{imports_eu_centralasia_name_ind}'].tolist()[::-1]\n",
    "exports_low_middle = exp_imp_eu_centralasia_low_middle[f'{exports_eu_centralasia_name_ind}'].tolist()[::-1]\n",
    "year = exp_imp_eu_centralasia_low_middle[f'year'].tolist()[::-1]\n",
    "\n",
    "df = pd.DataFrame({\"Imports\": imports_low_middle,\n",
    "                     \"Exports\": exports_low_middle,\n",
    "                     \"Year\": year})\n",
    "\n",
    "df_eua = df.melt(id_vars=['Year'],value_vars=['Imports', 'Exports'], var_name=['Exports/Imports'])\n",
    "df_eua['Income'] = pd.Series([\"Low_Middle_Income\" for x in range(len(df_imports_eu_centralasia.index)*2)])\n",
    "df_eua['Zone'] = pd.Series([\"Europe_CentralAsia\" for x in range(len(df_imports_eu_centralasia.index)*2)])"
   ]
  },
  {
   "cell_type": "markdown",
   "metadata": {},
   "source": [
    "Merchandise imports from low- and middle-income economies in Latin America & the Caribbean (% of total merchandise imports)\tTM.VAL.MRCH.R3.ZS"
   ]
  },
  {
   "cell_type": "code",
   "execution_count": 52,
   "metadata": {},
   "outputs": [],
   "source": [
    "# TM.VAL.MRCH.R3.ZS'\n",
    "imports_latin_caribe_ind  = 'TM.VAL.MRCH.R3.ZS'\n",
    "imports_latin_caribe_url = f'http://api.worldbank.org/v2/country/cr/indicator/{imports_latin_caribe_ind}?format=json'\n",
    "imports_latin_caribe = requests.get(imports_latin_caribe_url)\n",
    "imports_latin_caribe = imports_latin_caribe.json()[1:]\n",
    "\n",
    "# get indicator name\n",
    "imports_latin_caribe_name_ind = imports_latin_caribe[0][1]['indicator']['value']\n",
    "\n",
    "# create dictionary and remove Nones\n",
    "imports_latin_caribe_dict = {'year': [], f'{imports_latin_caribe_name_ind}': []}\n",
    "\n",
    "for i in imports_latin_caribe[0]:\n",
    "    #print(i['date'], i['value'])\n",
    "    if i['value']:\n",
    "        imports_latin_caribe_dict['year'].append(i['date'])\n",
    "        imports_latin_caribe_dict[imports_latin_caribe_name_ind].append(i['value'])\n",
    "\n",
    "df_imports_latin_caribe = pd.DataFrame.from_dict(data=imports_latin_caribe_dict)"
   ]
  },
  {
   "cell_type": "markdown",
   "metadata": {},
   "source": [
    "Merchandise exports to low- and middle-income economies in Latin America & the Caribbean (% of total merchandise exports)\tTX.VAL.MRCH.R3.ZS"
   ]
  },
  {
   "cell_type": "code",
   "execution_count": 51,
   "metadata": {},
   "outputs": [],
   "source": [
    "# TX.VAL.MRCH.R3.ZS\n",
    "exports_latin_caribe_ind  = 'TX.VAL.MRCH.R3.ZS'\n",
    "exports_latin_caribe_url = f'http://api.worldbank.org/v2/country/cr/indicator/{exports_latin_caribe_ind}?format=json'\n",
    "exports_latin_caribe = requests.get(exports_latin_caribe_url)\n",
    "exports_latin_caribe = exports_latin_caribe.json()[1:]\n",
    "\n",
    "# get indicator name\n",
    "exports_latin_caribe_name_ind = exports_latin_caribe[0][1]['indicator']['value']\n",
    "\n",
    "# create dictionary and remove Nones\n",
    "exports_latin_caribe_dict = {'year': [], f'{exports_latin_caribe_name_ind}': []}\n",
    "\n",
    "for i in exports_latin_caribe[0]:\n",
    "    #print(i['date'], i['value'])\n",
    "    if i['value']:\n",
    "        exports_latin_caribe_dict['year'].append(i['date'])\n",
    "        exports_latin_caribe_dict[exports_latin_caribe_name_ind].append(i['value'])\n",
    "\n",
    "df_exports_latin_caribe = pd.DataFrame.from_dict(data=exports_latin_caribe_dict)"
   ]
  },
  {
   "cell_type": "code",
   "execution_count": 50,
   "metadata": {},
   "outputs": [],
   "source": [
    "exp_imp_latin_caribe_low_middle = pd.merge(left=df_imports_latin_caribe, right=df_exports_latin_caribe, left_on='year', right_on='year')\n",
    "imports_low_middle = exp_imp_latin_caribe_low_middle[f'{imports_latin_caribe_name_ind}'].tolist()[::-1]\n",
    "exports_low_middle = exp_imp_latin_caribe_low_middle[f'{exports_latin_caribe_name_ind}'].tolist()[::-1]\n",
    "year = exp_imp_latin_caribe_low_middle[f'year'].tolist()[::-1]\n",
    "\n",
    "df = pd.DataFrame({\"Imports\": imports_low_middle,\n",
    "                     \"Exports\": exports_low_middle,\n",
    "                     \"Year\": year})\n",
    "df_la = df.melt(id_vars=['Year'],value_vars=['Imports', 'Exports'], var_name=['Exports/Imports'])\n",
    "df_la['Income'] = pd.Series([\"Low_Middle_Income\" for x in range(len(df_exports_latin_caribe.index)*2)])\n",
    "df_la['Zone'] = pd.Series([\"LatinAmerica_Caribe\" for x in range(len(df_exports_latin_caribe.index)*2)])"
   ]
  },
  {
   "cell_type": "markdown",
   "metadata": {},
   "source": [
    "Merchandise exports to low- and middle-income economies in South Asia (% of total merchandise exports)\tTX.VAL.MRCH.R5.ZS"
   ]
  },
  {
   "cell_type": "code",
   "execution_count": 49,
   "metadata": {},
   "outputs": [],
   "source": [
    "# TX.VAL.MRCH.R5.ZS\n",
    "exports_south_asia_ind  = 'TX.VAL.MRCH.R5.ZS'\n",
    "exports_south_asia_url = f'http://api.worldbank.org/v2/country/cr/indicator/{exports_south_asia_ind}?format=json'\n",
    "exports_south_asia = requests.get(exports_south_asia_url)\n",
    "exports_south_asia = exports_south_asia.json()[1:]\n",
    "\n",
    "# get indicator name\n",
    "exports_south_asia_name_ind = exports_south_asia[0][1]['indicator']['value']\n",
    "\n",
    "# create dictionary and remove Nones\n",
    "exports_south_asia_dict = {'year': [], f'{exports_south_asia_name_ind}': []}\n",
    "\n",
    "for i in exports_south_asia[0]:\n",
    "    #print(i['date'], i['value'])\n",
    "    if i['value']:\n",
    "        exports_south_asia_dict['year'].append(i['date'])\n",
    "        exports_south_asia_dict[exports_south_asia_name_ind].append(i['value'])\n",
    "\n",
    "df_exports_south_asia = pd.DataFrame.from_dict(data=exports_south_asia_dict)"
   ]
  },
  {
   "cell_type": "markdown",
   "metadata": {},
   "source": [
    "Merchandise imports from low- and middle-income economies in South Asia (% of total merchandise imports)\tTM.VAL.MRCH.R5.ZS"
   ]
  },
  {
   "cell_type": "code",
   "execution_count": 47,
   "metadata": {},
   "outputs": [],
   "source": [
    "# TM.VAL.MRCH.R5.ZS\n",
    "imports_south_asia_ind  = 'TM.VAL.MRCH.R5.ZS'\n",
    "imports_south_asia_url = f'http://api.worldbank.org/v2/country/cr/indicator/{imports_south_asia_ind}?format=json'\n",
    "imports_south_asia = requests.get(imports_south_asia_url)\n",
    "imports_south_asia = imports_south_asia.json()[1:]\n",
    "\n",
    "# get indicator name\n",
    "imports_south_asia_name_ind = imports_south_asia[0][1]['indicator']['value']\n",
    "\n",
    "# create dictionary and remove Nones\n",
    "imports_south_asia_dict = {'year': [], f'{imports_south_asia_name_ind}': []}\n",
    "\n",
    "for i in imports_south_asia[0]:\n",
    "    #print(i['date'], i['value'])\n",
    "    if i['value']:\n",
    "        imports_south_asia_dict['year'].append(i['date'])\n",
    "        imports_south_asia_dict[imports_south_asia_name_ind].append(i['value'])\n",
    "\n",
    "df_imports_south_asia = pd.DataFrame.from_dict(data=imports_south_asia_dict)"
   ]
  },
  {
   "cell_type": "code",
   "execution_count": 86,
   "metadata": {},
   "outputs": [],
   "source": [
    "exp_imp_south_asia_low_middle = pd.merge(left=df_imports_south_asia, right=df_exports_south_asia, left_on='year', right_on='year')\n",
    "imports_low_middle = exp_imp_south_asia_low_middle[f'{imports_south_asia_name_ind}'].tolist()[::-1]\n",
    "exports_low_middle = exp_imp_south_asia_low_middle[f'{exports_south_asia_name_ind}'].tolist()[::-1]\n",
    "year = exp_imp_south_asia_low_middle[f'year'].tolist()[::-1]\n",
    "\n",
    "df = pd.DataFrame({\"Imports\": imports_low_middle,\n",
    "                     \"Exports\": exports_low_middle,\n",
    "                     \"Year\": year})\n",
    "df_sa = df.melt(id_vars=['Year'],value_vars=['Imports', 'Exports'], var_name=['Exports/Imports'])\n",
    "df_sa['Income'] = pd.Series([\"Low_Middle_Income\" for x in range(len(df_exports_south_asia.index)*2)])\n",
    "df_sa['Zone'] = pd.Series([\"South_Asia\" for x in range(len(df_exports_south_asia.index)*2)])"
   ]
  },
  {
   "cell_type": "code",
   "execution_count": 87,
   "metadata": {},
   "outputs": [],
   "source": [
    "df = pd.concat([df_dn, df_apa, df_eua, df_la, df_sa], \n",
    "                keys=['Develop Nations', \n",
    "                        'Asia and Pacific', \n",
    "                        'Europe_Central_Asia',\n",
    "                        'LatinAmerica_Caribe',\n",
    "                        'South Asia'])"
   ]
  },
  {
   "cell_type": "code",
   "execution_count": 88,
   "metadata": {},
   "outputs": [],
   "source": [
    "df.to_excel(\"output.xlsx\",\n",
    "             sheet_name='MerchandiseImportsExports')"
   ]
  },
  {
   "cell_type": "markdown",
   "metadata": {},
   "source": [
    "Muestra general de las zonas donde CR exporta e importa mercansias."
   ]
  },
  {
   "cell_type": "code",
   "execution_count": 93,
   "metadata": {},
   "outputs": [
    {
     "data": {
      "image/png": "[encoded data removed]",
      "text/plain": [
       "<Figure size 720x720 with 1 Axes>"
      ]
     },
     "metadata": {},
     "output_type": "display_data"
    }
   ],
   "source": [
    "bplot = sns.boxplot(y='value', x='Zone', \n",
    "                 data=df, \n",
    "                 width=0.5,\n",
    "                 palette=\"colorblind\",\n",
    "                 hue='Exports/Imports',\n",
    "                 )"
   ]
  },
  {
   "cell_type": "markdown",
   "metadata": {},
   "source": [
    "El box plot siguiente muestra el comportamiento como CR exporta e importa a las naciones Desarrolladas y de Baja / Medio Ingreso Economico. \n",
    "Algunas regiones de ingreso Bajo/medio en Europa y el Sur de Asia tiene valores muy por debajo de las naciones Desarrolladas y los vecinos Latinoamericanos."
   ]
  },
  {
   "cell_type": "code",
   "execution_count": 120,
   "metadata": {},
   "outputs": [
    {
     "data": {
      "text/plain": [
       "<seaborn.axisgrid.FacetGrid at 0x23b5695a6d0>"
      ]
     },
     "execution_count": 120,
     "metadata": {},
     "output_type": "execute_result"
    },
    {
     "data": {
      "image/png": "[encoded data removed]",
      "text/plain": [
       "<Figure size 1047.92x504 with 2 Axes>"
      ]
     },
     "metadata": {},
     "output_type": "display_data"
    }
   ],
   "source": [
    "chart = sns.catplot(x=\"Zone\", y=\"value\",\n",
    "                hue=\"Income\", col=\"Exports/Imports\",\n",
    "                data=df, kind=\"box\",\n",
    "                height=10, aspect=.9)\n",
    "chart.set_xticklabels(rotation=90, horizontalalignment='right')"
   ]
  },
  {
   "cell_type": "code",
   "execution_count": 2,
   "metadata": {},
   "outputs": [],
   "source": [
    "indicador='http://api.worldbank.org/v2/indicators/NY.GDP.MKTP.CD?format=json'\n",
    "indicadorcr=requests.get(indicador)\n",
    "#indicadorcr.json()\n",
    "more_65='SP.POP.65UP.TO'\n",
    "over_65_url = f'http://api.worldbank.org/v2/country/cr/indicator/{more_65}?format=json'\n",
    "population_over_65= requests.get(over_65_url)\n",
    "#Renewable_energy.json()[1:]\n",
    "over65=population_over_65.json()[1:]\n",
    "\n",
    "population_65= over65[0][1]['indicator']['value']\n",
    "\n",
    "# create dictionary and remove Nones\n",
    "population_over_65_dict = {'year': [], f'{population_65}': []}\n",
    "\n",
    "for i in over65[0]:\n",
    "    #print(i['date'], i['value'])\n",
    "    if i['value']:\n",
    "        population_over_65_dict['year'].append(i['date'])\n",
    "        population_over_65_dict[population_65].append(i['value'])\n",
    "\n",
    "df_population_o_65= pd.DataFrame.from_dict(data=population_over_65_dict)"
   ]
  },
  {
   "cell_type": "code",
   "execution_count": 3,
   "metadata": {},
   "outputs": [],
   "source": [
    "populatio_15_64='SP.POP.1564.TO'\n",
    "popu_15_64_url = f'http://api.worldbank.org/v2/country/cr/indicator/{populatio_15_64}?format=json'\n",
    "population_15_64= requests.get(popu_15_64_url)\n",
    "#Renewable_energy.json()[1:]\n",
    "poblacion_15_64=population_15_64.json()[1:]\n",
    "\n",
    "popula_15_64= poblacion_15_64[0][1]['indicator']['value']\n",
    "\n",
    "# create dictionary and remove Nones\n",
    "population_15_64_dict = {'year': [], f'{popula_15_64}': []}\n",
    "\n",
    "for i in poblacion_15_64[0]:\n",
    "    #print(i['date'], i['value'])\n",
    "    if i['value']:\n",
    "        population_15_64_dict['year'].append(i['date'])\n",
    "        population_15_64_dict[popula_15_64].append(i['value'])\n",
    "\n",
    "df_population_15_64= pd.DataFrame.from_dict(data=population_15_64_dict)"
   ]
  },
  {
   "cell_type": "code",
   "execution_count": 4,
   "metadata": {},
   "outputs": [],
   "source": [
    "population_lt15='SP.POP.0014.TO'\n",
    "popu_lt15_url = f'http://api.worldbank.org/v2/country/cr/indicator/{population_lt15}?format=json'\n",
    "population_15= requests.get(popu_lt15_url)\n",
    "#Renewable_energy.json()[1:]\n",
    "poblacion_15=population_15.json()[1:]\n",
    "\n",
    "popula_lt15= poblacion_15[0][1]['indicator']['value']\n",
    "\n",
    "# create dictionary and remove Nones\n",
    "population_lt15_dict = {'year': [], f'{popula_lt15}': []}\n",
    "\n",
    "for i in poblacion_15[0]:\n",
    "    #print(i['date'], i['value'])\n",
    "    if i['value']:\n",
    "        population_lt15_dict['year'].append(i['date'])\n",
    "        population_lt15_dict[popula_lt15].append(i['value'])\n",
    "\n",
    "df_population_lt15= pd.DataFrame.from_dict(data=population_lt15_dict)"
   ]
  },
  {
   "cell_type": "code",
   "execution_count": 5,
   "metadata": {},
   "outputs": [],
   "source": [
    "Total_Population1=pd.merge(df_population_o_65,df_population_15_64, how='left')\n",
    "Total_Population=pd.merge(Total_Population1,df_population_lt15,how='left')\n",
    "Population_ages_65=Total_Population['Population ages 65 and above, total'].iloc[0:1]\n",
    "Population_ages_15_64=Total_Population['Population ages 15-64, total'].iloc[0:1]\n",
    "Population_ages_0_14=Total_Population['Population ages 0-14, total'].iloc[0:1]"
   ]
  },
  {
   "cell_type": "code",
   "execution_count": 6,
   "metadata": {},
   "outputs": [
    {
     "data": {
      "application/vnd.plotly.v1+json": {
       "config": {
        "plotlyServerURL": "https://plot.ly"
       },
       "data": [
        {
         "hole": 0.3,
         "labels": [
          "Population over 65",
          "Population 15-64",
          "Population 0-14"
         ],
         "marker": {
          "colors": [
           "#58D68D",
           "#99ccff",
           "#ccccff"
          ],
          "line": {
           "color": "#56564E ",
           "width": 2
          }
         },
         "pull": [
          0,
          0,
          0.2,
          0
         ],
         "textfont": {
          "size": 15
         },
         "type": "pie",
         "values": [
          522305,
          3510806,
          1061003
         ]
        }
       ],
       "layout": {
        "template": {
         "data": {
          "bar": [
           {
            "error_x": {
             "color": "#2a3f5f"
            },
            "error_y": {
             "color": "#2a3f5f"
            },
            "marker": {
             "line": {
              "color": "#E5ECF6",
              "width": 0.5
             },
             "pattern": {
              "fillmode": "overlay",
              "size": 10,
              "solidity": 0.2
             }
            },
            "type": "bar"
           }
          ],
          "barpolar": [
           {
            "marker": {
             "line": {
              "color": "#E5ECF6",
              "width": 0.5
             },
             "pattern": {
              "fillmode": "overlay",
              "size": 10,
              "solidity": 0.2
             }
            },
            "type": "barpolar"
           }
          ],
          "carpet": [
           {
            "aaxis": {
             "endlinecolor": "#2a3f5f",
             "gridcolor": "white",
             "linecolor": "white",
             "minorgridcolor": "white",
             "startlinecolor": "#2a3f5f"
            },
            "baxis": {
             "endlinecolor": "#2a3f5f",
             "gridcolor": "white",
             "linecolor": "white",
             "minorgridcolor": "white",
             "startlinecolor": "#2a3f5f"
            },
            "type": "carpet"
           }
          ],
          "choropleth": [
           {
            "colorbar": {
             "outlinewidth": 0,
             "ticks": ""
            },
            "type": "choropleth"
           }
          ],
          "contour": [
           {
            "colorbar": {
             "outlinewidth": 0,
             "ticks": ""
            },
            "colorscale": [
             [
              0,
              "#0d0887"
             ],
             [
              0.1111111111111111,
              "#46039f"
             ],
             [
              0.2222222222222222,
              "#7201a8"
             ],
             [
              0.3333333333333333,
              "#9c179e"
             ],
             [
              0.4444444444444444,
              "#bd3786"
             ],
             [
              0.5555555555555556,
              "#d8576b"
             ],
             [
              0.6666666666666666,
              "#ed7953"
             ],
             [
              0.7777777777777778,
              "#fb9f3a"
             ],
             [
              0.8888888888888888,
              "#fdca26"
             ],
             [
              1,
              "#f0f921"
             ]
            ],
            "type": "contour"
           }
          ],
          "contourcarpet": [
           {
            "colorbar": {
             "outlinewidth": 0,
             "ticks": ""
            },
            "type": "contourcarpet"
           }
          ],
          "heatmap": [
           {
            "colorbar": {
             "outlinewidth": 0,
             "ticks": ""
            },
            "colorscale": [
             [
              0,
              "#0d0887"
             ],
             [
              0.1111111111111111,
              "#46039f"
             ],
             [
              0.2222222222222222,
              "#7201a8"
             ],
             [
              0.3333333333333333,
              "#9c179e"
             ],
             [
              0.4444444444444444,
              "#bd3786"
             ],
             [
              0.5555555555555556,
              "#d8576b"
             ],
             [
              0.6666666666666666,
              "#ed7953"
             ],
             [
              0.7777777777777778,
              "#fb9f3a"
             ],
             [
              0.8888888888888888,
              "#fdca26"
             ],
             [
              1,
              "#f0f921"
             ]
            ],
            "type": "heatmap"
           }
          ],
          "heatmapgl": [
           {
            "colorbar": {
             "outlinewidth": 0,
             "ticks": ""
            },
            "colorscale": [
             [
              0,
              "#0d0887"
             ],
             [
              0.1111111111111111,
              "#46039f"
             ],
             [
              0.2222222222222222,
              "#7201a8"
             ],
             [
              0.3333333333333333,
              "#9c179e"
             ],
             [
              0.4444444444444444,
              "#bd3786"
             ],
             [
              0.5555555555555556,
              "#d8576b"
             ],
             [
              0.6666666666666666,
              "#ed7953"
             ],
             [
              0.7777777777777778,
              "#fb9f3a"
             ],
             [
              0.8888888888888888,
              "#fdca26"
             ],
             [
              1,
              "#f0f921"
             ]
            ],
            "type": "heatmapgl"
           }
          ],
          "histogram": [
           {
            "marker": {
             "pattern": {
              "fillmode": "overlay",
              "size": 10,
              "solidity": 0.2
             }
            },
            "type": "histogram"
           }
          ],
          "histogram2d": [
           {
            "colorbar": {
             "outlinewidth": 0,
             "ticks": ""
            },
            "colorscale": [
             [
              0,
              "#0d0887"
             ],
             [
              0.1111111111111111,
              "#46039f"
             ],
             [
              0.2222222222222222,
              "#7201a8"
             ],
             [
              0.3333333333333333,
              "#9c179e"
             ],
             [
              0.4444444444444444,
              "#bd3786"
             ],
             [
              0.5555555555555556,
              "#d8576b"
             ],
             [
              0.6666666666666666,
              "#ed7953"
             ],
             [
              0.7777777777777778,
              "#fb9f3a"
             ],
             [
              0.8888888888888888,
              "#fdca26"
             ],
             [
              1,
              "#f0f921"
             ]
            ],
            "type": "histogram2d"
           }
          ],
          "histogram2dcontour": [
           {
            "colorbar": {
             "outlinewidth": 0,
             "ticks": ""
            },
            "colorscale": [
             [
              0,
              "#0d0887"
             ],
             [
              0.1111111111111111,
              "#46039f"
             ],
             [
              0.2222222222222222,
              "#7201a8"
             ],
             [
              0.3333333333333333,
              "#9c179e"
             ],
             [
              0.4444444444444444,
              "#bd3786"
             ],
             [
              0.5555555555555556,
              "#d8576b"
             ],
             [
              0.6666666666666666,
              "#ed7953"
             ],
             [
              0.7777777777777778,
              "#fb9f3a"
             ],
             [
              0.8888888888888888,
              "#fdca26"
             ],
             [
              1,
              "#f0f921"
             ]
            ],
            "type": "histogram2dcontour"
           }
          ],
          "mesh3d": [
           {
            "colorbar": {
             "outlinewidth": 0,
             "ticks": ""
            },
            "type": "mesh3d"
           }
          ],
          "parcoords": [
           {
            "line": {
             "colorbar": {
              "outlinewidth": 0,
              "ticks": ""
             }
            },
            "type": "parcoords"
           }
          ],
          "pie": [
           {
            "automargin": true,
            "type": "pie"
           }
          ],
          "scatter": [
           {
            "marker": {
             "colorbar": {
              "outlinewidth": 0,
              "ticks": ""
             }
            },
            "type": "scatter"
           }
          ],
          "scatter3d": [
           {
            "line": {
             "colorbar": {
              "outlinewidth": 0,
              "ticks": ""
             }
            },
            "marker": {
             "colorbar": {
              "outlinewidth": 0,
              "ticks": ""
             }
            },
            "type": "scatter3d"
           }
          ],
          "scattercarpet": [
           {
            "marker": {
             "colorbar": {
              "outlinewidth": 0,
              "ticks": ""
             }
            },
            "type": "scattercarpet"
           }
          ],
          "scattergeo": [
           {
            "marker": {
             "colorbar": {
              "outlinewidth": 0,
              "ticks": ""
             }
            },
            "type": "scattergeo"
           }
          ],
          "scattergl": [
           {
            "marker": {
             "colorbar": {
              "outlinewidth": 0,
              "ticks": ""
             }
            },
            "type": "scattergl"
           }
          ],
          "scattermapbox": [
           {
            "marker": {
             "colorbar": {
              "outlinewidth": 0,
              "ticks": ""
             }
            },
            "type": "scattermapbox"
           }
          ],
          "scatterpolar": [
           {
            "marker": {
             "colorbar": {
              "outlinewidth": 0,
              "ticks": ""
             }
            },
            "type": "scatterpolar"
           }
          ],
          "scatterpolargl": [
           {
            "marker": {
             "colorbar": {
              "outlinewidth": 0,
              "ticks": ""
             }
            },
            "type": "scatterpolargl"
           }
          ],
          "scatterternary": [
           {
            "marker": {
             "colorbar": {
              "outlinewidth": 0,
              "ticks": ""
             }
            },
            "type": "scatterternary"
           }
          ],
          "surface": [
           {
            "colorbar": {
             "outlinewidth": 0,
             "ticks": ""
            },
            "colorscale": [
             [
              0,
              "#0d0887"
             ],
             [
              0.1111111111111111,
              "#46039f"
             ],
             [
              0.2222222222222222,
              "#7201a8"
             ],
             [
              0.3333333333333333,
              "#9c179e"
             ],
             [
              0.4444444444444444,
              "#bd3786"
             ],
             [
              0.5555555555555556,
              "#d8576b"
             ],
             [
              0.6666666666666666,
              "#ed7953"
             ],
             [
              0.7777777777777778,
              "#fb9f3a"
             ],
             [
              0.8888888888888888,
              "#fdca26"
             ],
             [
              1,
              "#f0f921"
             ]
            ],
            "type": "surface"
           }
          ],
          "table": [
           {
            "cells": {
             "fill": {
              "color": "#EBF0F8"
             },
             "line": {
              "color": "white"
             }
            },
            "header": {
             "fill": {
              "color": "#C8D4E3"
             },
             "line": {
              "color": "white"
             }
            },
            "type": "table"
           }
          ]
         },
         "layout": {
          "annotationdefaults": {
           "arrowcolor": "#2a3f5f",
           "arrowhead": 0,
           "arrowwidth": 1
          },
          "autotypenumbers": "strict",
          "coloraxis": {
           "colorbar": {
            "outlinewidth": 0,
            "ticks": ""
           }
          },
          "colorscale": {
           "diverging": [
            [
             0,
             "#8e0152"
            ],
            [
             0.1,
             "#c51b7d"
            ],
            [
             0.2,
             "#de77ae"
            ],
            [
             0.3,
             "#f1b6da"
            ],
            [
             0.4,
             "#fde0ef"
            ],
            [
             0.5,
             "#f7f7f7"
            ],
            [
             0.6,
             "#e6f5d0"
            ],
            [
             0.7,
             "#b8e186"
            ],
            [
             0.8,
             "#7fbc41"
            ],
            [
             0.9,
             "#4d9221"
            ],
            [
             1,
             "#276419"
            ]
           ],
           "sequential": [
            [
             0,
             "#0d0887"
            ],
            [
             0.1111111111111111,
             "#46039f"
            ],
            [
             0.2222222222222222,
             "#7201a8"
            ],
            [
             0.3333333333333333,
             "#9c179e"
            ],
            [
             0.4444444444444444,
             "#bd3786"
            ],
            [
             0.5555555555555556,
             "#d8576b"
            ],
            [
             0.6666666666666666,
             "#ed7953"
            ],
            [
             0.7777777777777778,
             "#fb9f3a"
            ],
            [
             0.8888888888888888,
             "#fdca26"
            ],
            [
             1,
             "#f0f921"
            ]
           ],
           "sequentialminus": [
            [
             0,
             "#0d0887"
            ],
            [
             0.1111111111111111,
             "#46039f"
            ],
            [
             0.2222222222222222,
             "#7201a8"
            ],
            [
             0.3333333333333333,
             "#9c179e"
            ],
            [
             0.4444444444444444,
             "#bd3786"
            ],
            [
             0.5555555555555556,
             "#d8576b"
            ],
            [
             0.6666666666666666,
             "#ed7953"
            ],
            [
             0.7777777777777778,
             "#fb9f3a"
            ],
            [
             0.8888888888888888,
             "#fdca26"
            ],
            [
             1,
             "#f0f921"
            ]
           ]
          },
          "colorway": [
           "#636efa",
           "#EF553B",
           "#00cc96",
           "#ab63fa",
           "#FFA15A",
           "#19d3f3",
           "#FF6692",
           "#B6E880",
           "#FF97FF",
           "#FECB52"
          ],
          "font": {
           "color": "#2a3f5f"
          },
          "geo": {
           "bgcolor": "white",
           "lakecolor": "white",
           "landcolor": "#E5ECF6",
           "showlakes": true,
           "showland": true,
           "subunitcolor": "white"
          },
          "hoverlabel": {
           "align": "left"
          },
          "hovermode": "closest",
          "mapbox": {
           "style": "light"
          },
          "paper_bgcolor": "white",
          "plot_bgcolor": "#E5ECF6",
          "polar": {
           "angularaxis": {
            "gridcolor": "white",
            "linecolor": "white",
            "ticks": ""
           },
           "bgcolor": "#E5ECF6",
           "radialaxis": {
            "gridcolor": "white",
            "linecolor": "white",
            "ticks": ""
           }
          },
          "scene": {
           "xaxis": {
            "backgroundcolor": "#E5ECF6",
            "gridcolor": "white",
            "gridwidth": 2,
            "linecolor": "white",
            "showbackground": true,
            "ticks": "",
            "zerolinecolor": "white"
           },
           "yaxis": {
            "backgroundcolor": "#E5ECF6",
            "gridcolor": "white",
            "gridwidth": 2,
            "linecolor": "white",
            "showbackground": true,
            "ticks": "",
            "zerolinecolor": "white"
           },
           "zaxis": {
            "backgroundcolor": "#E5ECF6",
            "gridcolor": "white",
            "gridwidth": 2,
            "linecolor": "white",
            "showbackground": true,
            "ticks": "",
            "zerolinecolor": "white"
           }
          },
          "shapedefaults": {
           "line": {
            "color": "#2a3f5f"
           }
          },
          "ternary": {
           "aaxis": {
            "gridcolor": "white",
            "linecolor": "white",
            "ticks": ""
           },
           "baxis": {
            "gridcolor": "white",
            "linecolor": "white",
            "ticks": ""
           },
           "bgcolor": "#E5ECF6",
           "caxis": {
            "gridcolor": "white",
            "linecolor": "white",
            "ticks": ""
           }
          },
          "title": {
           "x": 0.05
          },
          "xaxis": {
           "automargin": true,
           "gridcolor": "white",
           "linecolor": "white",
           "ticks": "",
           "title": {
            "standoff": 15
           },
           "zerolinecolor": "white",
           "zerolinewidth": 2
          },
          "yaxis": {
           "automargin": true,
           "gridcolor": "white",
           "linecolor": "white",
           "ticks": "",
           "title": {
            "standoff": 15
           },
           "zerolinecolor": "white",
           "zerolinewidth": 2
          }
         }
        },
        "title": {
         "text": "Population of Costa Rica by age"
        }
       }
      }
     },
     "metadata": {},
     "output_type": "display_data"
    }
   ],
   "source": [
    "data=[Population_ages_65[0],Population_ages_15_64[0],Population_ages_0_14[0]]\n",
    "labels= 'Population over 65','Population 15-64','Population 0-14'\n",
    "labels = ['Population over 65','Population 15-64','Population 0-14']\n",
    "values = [Population_ages_65[0],Population_ages_15_64[0],Population_ages_0_14[0]]\n",
    "\n",
    "fig = go.Figure(data=[go.Pie(labels=labels,textfont_size=15,\n",
    "marker=dict(colors= ['#58D68D','#99ccff','#ccccff'], line=dict(color='#56564E ', width=2)), values=values,hole=0.3, pull=[0, 0.0, 0.2, 0])])\n",
    "fig.update_layout(title_text=\"Population of Costa Rica by age\")\n",
    "fig.show()"
   ]
  }
 ],
 "metadata": {
  "interpreter": {
   "hash": "42dc61120d0f6cfaf0b6f5f237c01c73a1a3f56a361a036036de8b52e8c358dc"
  },
  "kernelspec": {
   "display_name": "Python 3.8.5 64-bit ('base': conda)",
   "name": "python3"
  },
  "language_info": {
   "codemirror_mode": {
    "name": "ipython",
    "version": 3
   },
   "file_extension": ".py",
   "mimetype": "text/x-python",
   "name": "python",
   "nbconvert_exporter": "python",
   "pygments_lexer": "ipython3",
   "version": "3.8.5"
  },
  "orig_nbformat": 4
 },
 "nbformat": 4,
 "nbformat_minor": 2
}
